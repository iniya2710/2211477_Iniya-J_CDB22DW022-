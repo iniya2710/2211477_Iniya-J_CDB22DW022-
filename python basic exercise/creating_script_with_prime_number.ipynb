{
  "nbformat": 4,
  "nbformat_minor": 0,
  "metadata": {
    "colab": {
      "provenance": []
    },
    "kernelspec": {
      "name": "python3",
      "display_name": "Python 3"
    },
    "language_info": {
      "name": "python"
    }
  },
  "cells": [
    {
      "cell_type": "code",
      "execution_count": null,
      "metadata": {
        "colab": {
          "base_uri": "https://localhost:8080/"
        },
        "id": "pvKBoluFDqvz",
        "outputId": "488b1405-b0b0-4cfa-9e7c-73f63fad0952"
      },
      "outputs": [
        {
          "output_type": "stream",
          "name": "stdout",
          "text": [
            "Overwriting script1.py\n"
          ]
        }
      ],
      "source": [
        "%%writefile script1.py\n",
        "\n",
        "n = int(input('Enter the number:'))\n",
        "for i in range(1,n+1):\n",
        "  if(isPrime(i)):\n",
        "    print(i,end=\" \")"
      ]
    },
    {
      "cell_type": "code",
      "source": [
        "%%writefile script2.py\n",
        "num1 = int(input('Enter the lower limit:'))\n",
        "num2 = int(input('Enter the upper limit:'))\n",
        "\n",
        " \n",
        "for i in range (num1, num2 + 1):  \n",
        "    if i > 1:  \n",
        "        for j in range (2, i):  \n",
        "            if (i % j) == 0:  \n",
        "                break  \n",
        "        else:  \n",
        "            print (i) "
      ],
      "metadata": {
        "colab": {
          "base_uri": "https://localhost:8080/"
        },
        "id": "C6KcfqfaE2L3",
        "outputId": "668b1ed8-12c9-429d-f674-aa56bbe2cfec"
      },
      "execution_count": null,
      "outputs": [
        {
          "output_type": "stream",
          "name": "stdout",
          "text": [
            "Overwriting script2.py\n"
          ]
        }
      ]
    }
  ]
}
{
  "nbformat": 4,
  "nbformat_minor": 0,
  "metadata": {
    "colab": {
      "name": "dictionary.ipynb",
      "provenance": []
    },
    "kernelspec": {
      "name": "python3",
      "display_name": "Python 3"
    },
    "language_info": {
      "name": "python"
    }
  },
  "cells": [
    {
      "cell_type": "markdown",
      "source": [
        "**Dictionary**\n",
        "Used to store key value pair"
      ],
      "metadata": {
        "id": "nFe1iJdV1mlX"
      }
    },
    {
      "cell_type": "code",
      "source": [
        "d = {'apple':'red','banana':'yellow','grapes':'purple'}"
      ],
      "metadata": {
        "id": "vl3NRKPf1n6A"
      },
      "execution_count": null,
      "outputs": []
    },
    {
      "cell_type": "markdown",
      "source": [
        "using dir funciton to check the possible actions done on dictionary"
      ],
      "metadata": {
        "id": "lqFOeDV01oIU"
      }
    },
    {
      "cell_type": "code",
      "source": [
        "dir(d)"
      ],
      "metadata": {
        "colab": {
          "base_uri": "https://localhost:8080/"
        },
        "id": "lGMFyMju1oVS",
        "outputId": "b5dcc752-e987-4b6d-d07a-48aa414509d2"
      },
      "execution_count": null,
      "outputs": [
        {
          "output_type": "execute_result",
          "data": {
            "text/plain": [
              "['__class__',\n",
              " '__contains__',\n",
              " '__delattr__',\n",
              " '__delitem__',\n",
              " '__dir__',\n",
              " '__doc__',\n",
              " '__eq__',\n",
              " '__format__',\n",
              " '__ge__',\n",
              " '__getattribute__',\n",
              " '__getitem__',\n",
              " '__gt__',\n",
              " '__hash__',\n",
              " '__init__',\n",
              " '__init_subclass__',\n",
              " '__iter__',\n",
              " '__le__',\n",
              " '__len__',\n",
              " '__lt__',\n",
              " '__ne__',\n",
              " '__new__',\n",
              " '__reduce__',\n",
              " '__reduce_ex__',\n",
              " '__repr__',\n",
              " '__setattr__',\n",
              " '__setitem__',\n",
              " '__sizeof__',\n",
              " '__str__',\n",
              " '__subclasshook__',\n",
              " 'clear',\n",
              " 'copy',\n",
              " 'fromkeys',\n",
              " 'get',\n",
              " 'items',\n",
              " 'keys',\n",
              " 'pop',\n",
              " 'popitem',\n",
              " 'setdefault',\n",
              " 'update',\n",
              " 'values']"
            ]
          },
          "metadata": {},
          "execution_count": 4
        }
      ]
    },
    {
      "cell_type": "markdown",
      "source": [
        "**Copy**\n",
        "used to copy the dictionary"
      ],
      "metadata": {
        "id": "8OEL5qdi1oio"
      }
    },
    {
      "cell_type": "code",
      "source": [
        "d1 = d.copy()\n",
        "print(d1)"
      ],
      "metadata": {
        "colab": {
          "base_uri": "https://localhost:8080/"
        },
        "id": "jK6qxdyx1oxU",
        "outputId": "894f3b25-776f-4899-91d3-266e5d20f540"
      },
      "execution_count": null,
      "outputs": [
        {
          "output_type": "stream",
          "name": "stdout",
          "text": [
            "{'apple': 'red', 'banana': 'yellow', 'grapes': 'purple'}\n"
          ]
        }
      ]
    },
    {
      "cell_type": "markdown",
      "source": [
        "**Clear:**\n",
        "Remove all the elements in the set."
      ],
      "metadata": {
        "id": "p9vjgIWY1pAE"
      }
    },
    {
      "cell_type": "code",
      "source": [
        "d1.clear()\n",
        "print(d1)"
      ],
      "metadata": {
        "colab": {
          "base_uri": "https://localhost:8080/"
        },
        "id": "_-Uq9JUU1pPI",
        "outputId": "2b47e466-085a-4e9b-94ab-8f1816440478"
      },
      "execution_count": null,
      "outputs": [
        {
          "output_type": "stream",
          "name": "stdout",
          "text": [
            "{}\n"
          ]
        }
      ]
    },
    {
      "cell_type": "markdown",
      "source": [
        "**From Keys:**\n",
        "Used to get the specified key"
      ],
      "metadata": {
        "id": "YoAbt9DNnKAJ"
      }
    },
    {
      "cell_type": "code",
      "source": [
        "d.get('mango','Oops the entered item is not found in the dictionary') \n",
        "# will return the value of the key named mango, if mango is not in the dictionary then it will return the defult function typed inside the get function"
      ],
      "metadata": {
        "colab": {
          "base_uri": "https://localhost:8080/",
          "height": 35
        },
        "id": "O9S4kR29nKOx",
        "outputId": "ecd37956-0784-45ec-9a3b-4aa0710b42e0"
      },
      "execution_count": null,
      "outputs": [
        {
          "output_type": "execute_result",
          "data": {
            "text/plain": [
              "'Oops the entered item is not found in the dictionary'"
            ],
            "application/vnd.google.colaboratory.intrinsic+json": {
              "type": "string"
            }
          },
          "metadata": {},
          "execution_count": 11
        }
      ]
    },
    {
      "cell_type": "markdown",
      "source": [
        "**Items:**\n",
        "Returns the keyvalue pairs as tupule in list"
      ],
      "metadata": {
        "id": "i4BfNOlWnKhG"
      }
    },
    {
      "cell_type": "code",
      "source": [
        "d.items() "
      ],
      "metadata": {
        "colab": {
          "base_uri": "https://localhost:8080/"
        },
        "id": "Lg_annT2nKyX",
        "outputId": "c6e28bbf-d864-4609-c187-358b429c5358"
      },
      "execution_count": null,
      "outputs": [
        {
          "output_type": "execute_result",
          "data": {
            "text/plain": [
              "dict_items([('apple', 'red'), ('banana', 'yellow'), ('grapes', 'purple')])"
            ]
          },
          "metadata": {},
          "execution_count": 9
        }
      ]
    },
    {
      "cell_type": "markdown",
      "source": [
        "**Pop:**\n",
        "Retun and delete the specified key-value pair in the dictionary"
      ],
      "metadata": {
        "id": "X_Hm5icznLFf"
      }
    },
    {
      "cell_type": "code",
      "source": [
        "d.pop('apple') #will delete the specified key from the dictionary and return its value"
      ],
      "metadata": {
        "colab": {
          "base_uri": "https://localhost:8080/",
          "height": 35
        },
        "id": "ckVj5BrtnLWQ",
        "outputId": "9fc37156-9764-4f95-ffa6-b54b80ad1676"
      },
      "execution_count": null,
      "outputs": [
        {
          "output_type": "execute_result",
          "data": {
            "text/plain": [
              "'red'"
            ],
            "application/vnd.google.colaboratory.intrinsic+json": {
              "type": "string"
            }
          },
          "metadata": {},
          "execution_count": 12
        }
      ]
    },
    {
      "cell_type": "code",
      "source": [
        "print(d)"
      ],
      "metadata": {
        "colab": {
          "base_uri": "https://localhost:8080/"
        },
        "id": "_wYghIfXqfwC",
        "outputId": "8024c1a1-a4ba-4d74-8b82-55148ff66c31"
      },
      "execution_count": null,
      "outputs": [
        {
          "output_type": "stream",
          "name": "stdout",
          "text": [
            "{'banana': 'yellow', 'grapes': 'purple'}\n"
          ]
        }
      ]
    },
    {
      "cell_type": "markdown",
      "source": [
        "**Key:**\n",
        "used to fetch all the keys used in the dictionary as a list inside tuple"
      ],
      "metadata": {
        "id": "o2Pfk-pNnLoi"
      }
    },
    {
      "cell_type": "code",
      "source": [
        "d.keys()"
      ],
      "metadata": {
        "id": "S5SL93rKnL5i",
        "colab": {
          "base_uri": "https://localhost:8080/"
        },
        "outputId": "bc7e4711-bc3e-447c-db71-a70fea8c348b"
      },
      "execution_count": null,
      "outputs": [
        {
          "output_type": "execute_result",
          "data": {
            "text/plain": [
              "dict_keys(['banana', 'grapes'])"
            ]
          },
          "metadata": {},
          "execution_count": 14
        }
      ]
    },
    {
      "cell_type": "markdown",
      "source": [
        "**Values:**\n",
        "Used to fetch all the values used inside the dictionary as a list inside tuple"
      ],
      "metadata": {
        "id": "l_9tTG76xTsZ"
      }
    },
    {
      "cell_type": "code",
      "source": [
        "d.values()"
      ],
      "metadata": {
        "colab": {
          "base_uri": "https://localhost:8080/"
        },
        "id": "iZ4YDKRwxT9u",
        "outputId": "dd9e1b50-fe71-4845-d3ca-424d2ba80ab2"
      },
      "execution_count": null,
      "outputs": [
        {
          "output_type": "execute_result",
          "data": {
            "text/plain": [
              "dict_values(['yellow', 'purple'])"
            ]
          },
          "metadata": {},
          "execution_count": 15
        }
      ]
    }
  ]
}
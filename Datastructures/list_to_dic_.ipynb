{
  "nbformat": 4,
  "nbformat_minor": 0,
  "metadata": {
    "colab": {
      "name": "list to dic .ipynb",
      "provenance": [],
      "collapsed_sections": []
    },
    "kernelspec": {
      "name": "python3",
      "display_name": "Python 3"
    },
    "language_info": {
      "name": "python"
    }
  },
  "cells": [
    {
      "cell_type": "code",
      "execution_count": null,
      "metadata": {
        "id": "kRT7b1SG3af6"
      },
      "outputs": [],
      "source": [
        "wrd = 'Input a list of words and convert it into a count dictionary'"
      ]
    },
    {
      "cell_type": "code",
      "source": [
        "dic = wrd.split()\n",
        "print(dic)"
      ],
      "metadata": {
        "colab": {
          "base_uri": "https://localhost:8080/"
        },
        "id": "IFA06doy4ARs",
        "outputId": "b2648f98-e3d2-4ad9-8d50-e313acb1954c"
      },
      "execution_count": null,
      "outputs": [
        {
          "output_type": "stream",
          "name": "stdout",
          "text": [
            "['Input', 'a', 'list', 'of', 'words', 'and', 'convert', 'it', 'into', 'a', 'count', 'dictionary']\n"
          ]
        }
      ]
    },
    {
      "cell_type": "code",
      "source": [
        "d = dict(enumerate(dic))\n",
        "print(d)"
      ],
      "metadata": {
        "colab": {
          "base_uri": "https://localhost:8080/"
        },
        "id": "KtOymIZp5bwb",
        "outputId": "55336cc9-c173-43ef-f7f9-f0039ef7f6fa"
      },
      "execution_count": null,
      "outputs": [
        {
          "output_type": "stream",
          "name": "stdout",
          "text": [
            "{0: 'Input', 1: 'a', 2: 'list', 3: 'of', 4: 'words', 5: 'and', 6: 'convert', 7: 'it', 8: 'into', 9: 'a', 10: 'count', 11: 'dictionary'}\n"
          ]
        }
      ]
    }
  ]
}
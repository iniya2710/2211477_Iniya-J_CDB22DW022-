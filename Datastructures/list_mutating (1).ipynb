{
  "nbformat": 4,
  "nbformat_minor": 0,
  "metadata": {
    "colab": {
      "name": "list - mutating.ipynb",
      "provenance": []
    },
    "kernelspec": {
      "name": "python3",
      "display_name": "Python 3"
    },
    "language_info": {
      "name": "python"
    }
  },
  "cells": [
    {
      "cell_type": "markdown",
      "source": [
        "List"
      ],
      "metadata": {
        "id": "Gl5aeMVsnF2R"
      }
    },
    {
      "cell_type": "code",
      "source": [
        "# creating lists with different datatypes\n",
        "\n",
        "l1 = [1,2,3,7,'list','python',False,True]\n",
        "l2 = [1,2,7,9,8,4,5,6]\n",
        "l3 = ['banana','apple','orange','pineappele']"
      ],
      "metadata": {
        "id": "GPzrrPvTnLJZ"
      },
      "execution_count": null,
      "outputs": []
    },
    {
      "cell_type": "code",
      "source": [
        "# usind dir function on list\n",
        "dir(l1)"
      ],
      "metadata": {
        "colab": {
          "base_uri": "https://localhost:8080/"
        },
        "id": "UOoPcQEMnjNj",
        "outputId": "4e9c05de-d82e-41cc-e6e7-82f3fe8d50cb"
      },
      "execution_count": null,
      "outputs": [
        {
          "output_type": "execute_result",
          "data": {
            "text/plain": [
              "['__add__',\n",
              " '__class__',\n",
              " '__contains__',\n",
              " '__delattr__',\n",
              " '__delitem__',\n",
              " '__dir__',\n",
              " '__doc__',\n",
              " '__eq__',\n",
              " '__format__',\n",
              " '__ge__',\n",
              " '__getattribute__',\n",
              " '__getitem__',\n",
              " '__gt__',\n",
              " '__hash__',\n",
              " '__iadd__',\n",
              " '__imul__',\n",
              " '__init__',\n",
              " '__init_subclass__',\n",
              " '__iter__',\n",
              " '__le__',\n",
              " '__len__',\n",
              " '__lt__',\n",
              " '__mul__',\n",
              " '__ne__',\n",
              " '__new__',\n",
              " '__reduce__',\n",
              " '__reduce_ex__',\n",
              " '__repr__',\n",
              " '__reversed__',\n",
              " '__rmul__',\n",
              " '__setattr__',\n",
              " '__setitem__',\n",
              " '__sizeof__',\n",
              " '__str__',\n",
              " '__subclasshook__',\n",
              " 'append',\n",
              " 'clear',\n",
              " 'copy',\n",
              " 'count',\n",
              " 'extend',\n",
              " 'index',\n",
              " 'insert',\n",
              " 'pop',\n",
              " 'remove',\n",
              " 'reverse',\n",
              " 'sort']"
            ]
          },
          "metadata": {},
          "execution_count": 34
        }
      ]
    },
    {
      "cell_type": "markdown",
      "source": [
        "**Append:**\n",
        "Used to add elemnt to the end of the list. Can add only one elemnt or a list to the existing list"
      ],
      "metadata": {
        "id": "EIheXErnn3UH"
      }
    },
    {
      "cell_type": "code",
      "source": [
        "l1.append('w3 school') #appending a string to the existing list\n",
        "print(l1)\n",
        "l1.append([7,4,3,'groot']) #appending a list to the existing list\n",
        "print(l1)"
      ],
      "metadata": {
        "colab": {
          "base_uri": "https://localhost:8080/"
        },
        "id": "Pi2SyGM6nz5I",
        "outputId": "1d104a11-612c-4dd4-fe9a-9c3ad0975513"
      },
      "execution_count": null,
      "outputs": [
        {
          "output_type": "stream",
          "name": "stdout",
          "text": [
            "[1, 2, 3, 7, 'list', 'python', False, True, 'w3 school']\n",
            "[1, 2, 3, 7, 'list', 'python', False, True, 'w3 school', [7, 4, 3, 'groot']]\n"
          ]
        }
      ]
    },
    {
      "cell_type": "markdown",
      "source": [
        "**Copy:**\n",
        "Used to copy and save the existing list in new variable"
      ],
      "metadata": {
        "id": "kGtSjs5Gos_t"
      }
    },
    {
      "cell_type": "code",
      "source": [
        "lcop = l1.copy() #copied the list named l1 into new variable named lcop\n",
        "print(lcop)"
      ],
      "metadata": {
        "colab": {
          "base_uri": "https://localhost:8080/"
        },
        "id": "Vj2Xv-E3n0GB",
        "outputId": "7ddd556a-def5-43e3-b9f2-1cd700d20319"
      },
      "execution_count": null,
      "outputs": [
        {
          "output_type": "stream",
          "name": "stdout",
          "text": [
            "[1, 2, 3, 7, 'list', 'python', False, True, 'w3 school', [7, 4, 3, 'groot']]\n"
          ]
        }
      ]
    },
    {
      "cell_type": "markdown",
      "source": [
        "**Clear:**\n",
        "Clear all the elements in the whole list and the list will be empty"
      ],
      "metadata": {
        "id": "aAGKg3blpSpK"
      }
    },
    {
      "cell_type": "code",
      "source": [
        "lcop.clear() # clearing the list named lcop\n",
        "print(lcop)"
      ],
      "metadata": {
        "colab": {
          "base_uri": "https://localhost:8080/"
        },
        "id": "qFM-bSEGn0PK",
        "outputId": "4719115e-ae3b-4f58-e8a3-1e2b8fd419d9"
      },
      "execution_count": null,
      "outputs": [
        {
          "output_type": "stream",
          "name": "stdout",
          "text": [
            "[]\n"
          ]
        }
      ]
    },
    {
      "cell_type": "markdown",
      "source": [
        "**Count:**\n",
        "The function is used to count the occurance of specified number in the list."
      ],
      "metadata": {
        "id": "vfqx6suhpniD"
      }
    },
    {
      "cell_type": "code",
      "source": [
        "print('The number 7 occurs',l1.count(7),'times') #counting the occurance of number 7 in the list named l1"
      ],
      "metadata": {
        "colab": {
          "base_uri": "https://localhost:8080/"
        },
        "id": "3pw8_rFon0Ww",
        "outputId": "03891d1b-2feb-47a6-8954-a5d615c12266"
      },
      "execution_count": null,
      "outputs": [
        {
          "output_type": "stream",
          "name": "stdout",
          "text": [
            "The number 7 occurs 1 times\n"
          ]
        }
      ]
    },
    {
      "cell_type": "markdown",
      "source": [
        "**Extend:**\n",
        "The extend funciton is as same as append. But here we can add more than one element at the end of existing list."
      ],
      "metadata": {
        "id": "jUUzxIJpqJ80"
      }
    },
    {
      "cell_type": "code",
      "source": [
        "l1. extend(l2) # extendiing the list with another list named l2\n",
        "print(l1)"
      ],
      "metadata": {
        "colab": {
          "base_uri": "https://localhost:8080/"
        },
        "id": "whwQOC3Pn0ga",
        "outputId": "46f31678-6287-48e6-fa07-5bce98e0a6cc"
      },
      "execution_count": null,
      "outputs": [
        {
          "output_type": "stream",
          "name": "stdout",
          "text": [
            "[1, 2, 3, 7, 'list', 'python', False, True, 'w3 school', [7, 4, 3, 'groot'], 1, 2, 7, 9, 8, 4, 5, 6]\n"
          ]
        }
      ]
    },
    {
      "cell_type": "markdown",
      "source": [
        "**Index:**\n",
        "Used to find the index of the specified elemnt from the list"
      ],
      "metadata": {
        "id": "wUjncfEnrG2p"
      }
    },
    {
      "cell_type": "code",
      "source": [
        "print(l1.index(9)) #finding the index of number 9 in the list named l1"
      ],
      "metadata": {
        "colab": {
          "base_uri": "https://localhost:8080/"
        },
        "id": "FZyjn2LSn0pb",
        "outputId": "79285f86-2066-4f12-f2e8-16a079db95d0"
      },
      "execution_count": null,
      "outputs": [
        {
          "output_type": "stream",
          "name": "stdout",
          "text": [
            "13\n"
          ]
        }
      ]
    },
    {
      "cell_type": "markdown",
      "source": [
        "**Insert:**\n",
        "To insert the specified number in the specified position"
      ],
      "metadata": {
        "id": "4Y5yeh4XrFp0"
      }
    },
    {
      "cell_type": "code",
      "source": [
        "l3.insert(2,'peach') #inserting the peach in 2nd index in the list nammed l3\n",
        "print(l3)"
      ],
      "metadata": {
        "colab": {
          "base_uri": "https://localhost:8080/"
        },
        "id": "nQM8S7v8n0x8",
        "outputId": "53828289-58d7-4cbd-944a-e54f1b7bbcd1"
      },
      "execution_count": null,
      "outputs": [
        {
          "output_type": "stream",
          "name": "stdout",
          "text": [
            "['banana', 'apple', 'peach', 'orange', 'pineappele']\n"
          ]
        }
      ]
    },
    {
      "cell_type": "markdown",
      "source": [
        "**POP:**\n",
        "Pop function is used to remove and retun the last element in the list"
      ],
      "metadata": {
        "id": "rW8JlqGhsig8"
      }
    },
    {
      "cell_type": "code",
      "source": [
        "l1.pop() #this will removw and return the last value present in the list named l1"
      ],
      "metadata": {
        "colab": {
          "base_uri": "https://localhost:8080/"
        },
        "id": "a-UbvZ7Ssriz",
        "outputId": "313a884d-0357-4441-f48d-84b065f86fa7"
      },
      "execution_count": null,
      "outputs": [
        {
          "output_type": "execute_result",
          "data": {
            "text/plain": [
              "6"
            ]
          },
          "metadata": {},
          "execution_count": 42
        }
      ]
    },
    {
      "cell_type": "markdown",
      "source": [
        "**Remove:**\n",
        "To remove the specified element from list"
      ],
      "metadata": {
        "id": "eJTpXdPds2xO"
      }
    },
    {
      "cell_type": "code",
      "source": [
        "print(l1,'\\n')\n",
        "l1.remove(False) #the elemnt named False(bool type) will be removed from the list\n",
        "print(l1)"
      ],
      "metadata": {
        "colab": {
          "base_uri": "https://localhost:8080/"
        },
        "id": "5dtUivdVs1oc",
        "outputId": "9d8ff58e-75bb-4e1b-c3fe-134865dd7483"
      },
      "execution_count": null,
      "outputs": [
        {
          "output_type": "stream",
          "name": "stdout",
          "text": [
            "[1, 2, 3, 7, 'list', 'python', False, True, 'w3 school', [7, 4, 3, 'groot'], 1, 2, 7, 9, 8, 4, 5] \n",
            "\n",
            "[1, 2, 3, 7, 'list', 'python', True, 'w3 school', [7, 4, 3, 'groot'], 1, 2, 7, 9, 8, 4, 5]\n"
          ]
        }
      ]
    },
    {
      "cell_type": "markdown",
      "source": [
        "**Reverse:**\n",
        "The whole list will be reversed. The index of 0 will be changed to -1 and vice versa"
      ],
      "metadata": {
        "id": "G1cX1VqbtsP1"
      }
    },
    {
      "cell_type": "code",
      "source": [
        "print(l1,'\\n')\n",
        "l1.reverse()\n",
        "print(l1)"
      ],
      "metadata": {
        "colab": {
          "base_uri": "https://localhost:8080/"
        },
        "id": "72u8knHUtVsg",
        "outputId": "fce27d6e-2163-4b70-d8ec-524a047338d8"
      },
      "execution_count": null,
      "outputs": [
        {
          "output_type": "stream",
          "name": "stdout",
          "text": [
            "[1, 2, 3, 7, 'list', 'python', True, 'w3 school', [7, 4, 3, 'groot'], 1, 2, 7, 9, 8, 4, 5] \n",
            "\n",
            "[5, 4, 8, 9, 7, 2, 1, [7, 4, 3, 'groot'], 'w3 school', True, 'python', 'list', 7, 3, 2, 1]\n"
          ]
        }
      ]
    },
    {
      "cell_type": "markdown",
      "source": [
        "**Sort:**\n",
        "TO arrange the list in ascending order. To perform sorting the list should have single datatype inside it not the mixture of all. It even change the order(index) of the list "
      ],
      "metadata": {
        "id": "-Ur4xFyPuCCD"
      }
    },
    {
      "cell_type": "code",
      "source": [
        "l3.sort() #string inside this list will be arranged alphabetically\n",
        "print(l3,'\\n')\n",
        "l2.sort() #numbers inside this list will be arranged in ascending order\n",
        "print(l2)"
      ],
      "metadata": {
        "colab": {
          "base_uri": "https://localhost:8080/"
        },
        "id": "LqArzLLOs13r",
        "outputId": "0d9cd874-4898-43a9-d19b-1549bf7343ef"
      },
      "execution_count": null,
      "outputs": [
        {
          "output_type": "stream",
          "name": "stdout",
          "text": [
            "['apple', 'banana', 'orange', 'peach', 'pineappele'] \n",
            "\n",
            "[1, 2, 4, 5, 6, 7, 8, 9]\n"
          ]
        }
      ]
    }
  ]
}
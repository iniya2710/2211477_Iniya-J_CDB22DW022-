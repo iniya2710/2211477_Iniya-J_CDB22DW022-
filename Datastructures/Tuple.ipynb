{
  "nbformat": 4,
  "nbformat_minor": 0,
  "metadata": {
    "colab": {
      "name": "Tuple.ipynb",
      "provenance": []
    },
    "kernelspec": {
      "name": "python3",
      "display_name": "Python 3"
    },
    "language_info": {
      "name": "python"
    }
  },
  "cells": [
    {
      "cell_type": "markdown",
      "source": [
        "Tuple:\n",
        "Tupules are unmutable. Using dir funciton we are going to explore the possible actions that can be used on tuple."
      ],
      "metadata": {
        "id": "-IPUGWAivVE7"
      }
    },
    {
      "cell_type": "code",
      "source": [
        "#Creating Tupule\n",
        "\n",
        "t1 = (1,2,7,'apple',True,7.94,9,9,4)"
      ],
      "metadata": {
        "id": "htYtJo6bvjr-"
      },
      "execution_count": null,
      "outputs": []
    },
    {
      "cell_type": "markdown",
      "source": [
        "Applying dir function on tuple"
      ],
      "metadata": {
        "id": "DJZm0WBWv9AE"
      }
    },
    {
      "cell_type": "code",
      "source": [
        "dir(t1)"
      ],
      "metadata": {
        "colab": {
          "base_uri": "https://localhost:8080/"
        },
        "id": "hkmR5lJ8wD50",
        "outputId": "bcfa1908-a58e-4d56-be82-c24cc29b0d33"
      },
      "execution_count": null,
      "outputs": [
        {
          "output_type": "execute_result",
          "data": {
            "text/plain": [
              "['__add__',\n",
              " '__class__',\n",
              " '__contains__',\n",
              " '__delattr__',\n",
              " '__dir__',\n",
              " '__doc__',\n",
              " '__eq__',\n",
              " '__format__',\n",
              " '__ge__',\n",
              " '__getattribute__',\n",
              " '__getitem__',\n",
              " '__getnewargs__',\n",
              " '__gt__',\n",
              " '__hash__',\n",
              " '__init__',\n",
              " '__init_subclass__',\n",
              " '__iter__',\n",
              " '__le__',\n",
              " '__len__',\n",
              " '__lt__',\n",
              " '__mul__',\n",
              " '__ne__',\n",
              " '__new__',\n",
              " '__reduce__',\n",
              " '__reduce_ex__',\n",
              " '__repr__',\n",
              " '__rmul__',\n",
              " '__setattr__',\n",
              " '__sizeof__',\n",
              " '__str__',\n",
              " '__subclasshook__',\n",
              " 'count',\n",
              " 'index']"
            ]
          },
          "metadata": {},
          "execution_count": 4
        }
      ]
    },
    {
      "cell_type": "markdown",
      "source": [
        "**Count:**\n",
        "Count the occurance of specified element "
      ],
      "metadata": {
        "id": "TfeYrbmzwRfm"
      }
    },
    {
      "cell_type": "code",
      "source": [
        "print('The number 9 occurs',t1.count(9),'times') #count the occurance of element 9 from the tuple t1"
      ],
      "metadata": {
        "colab": {
          "base_uri": "https://localhost:8080/"
        },
        "id": "w1CX_fg3wD_y",
        "outputId": "78c3687a-a879-4c03-897f-81594007ce13"
      },
      "execution_count": null,
      "outputs": [
        {
          "output_type": "stream",
          "name": "stdout",
          "text": [
            "The number 9 occurs 2 times\n"
          ]
        }
      ]
    },
    {
      "cell_type": "markdown",
      "source": [
        "**Index:**\n",
        "Used to find the index of specified element from the tuple"
      ],
      "metadata": {
        "id": "SAQ0hrUswuSL"
      }
    },
    {
      "cell_type": "code",
      "source": [
        "t1.index('apple') # find the index of apple in the tuple named t1"
      ],
      "metadata": {
        "colab": {
          "base_uri": "https://localhost:8080/"
        },
        "id": "Z7QaP1XowEDO",
        "outputId": "6dcecc7d-7948-46df-972a-97a9319617e3"
      },
      "execution_count": null,
      "outputs": [
        {
          "output_type": "execute_result",
          "data": {
            "text/plain": [
              "3"
            ]
          },
          "metadata": {},
          "execution_count": 9
        }
      ]
    }
  ]
}